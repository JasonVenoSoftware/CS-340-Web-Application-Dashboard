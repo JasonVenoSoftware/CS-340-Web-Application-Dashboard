from jupyter_plotly_dash import JupyterDash

import dash
import dash_leaflet as dl
import dash_core_components as dcc
import dash_html_components as html
import plotly.express as px
import dash_table as dt
from dash.dependencies import Input, Output, State
import base64 # Added for Project Two

import os
import numpy as np
import pandas as pd
from pymongo import MongoClient
from bson.json_util import dumps

#### FIX ME #####
# change animal_shelter and AnimalShelter to match your CRUD Python module file name and class name
from crud import AnimalShelter





###########################
# Data Manipulation / Model
###########################
# FIX ME change for your username and password and CRUD Python module name
username = "accuser"
password = "Password1234"
shelter = AnimalShelter()


# class read method must support return of cursor object 
df = pd.DataFrame.from_records(shelter.read({}))



#########################
# Dashboard Layout / View
#########################
app = JupyterDash('Jason Veno Dashboard')

#FIX ME Add in Grazioso Salvare’s logo
image_filename = 'Grazioso Salvare Logo.png' # replace with your own image
encoded_image = base64.b64encode(open(image_filename, 'rb').read())

#FIX ME Place the HTML image tag in the line below into the app.layout code according to your design
#FIX ME Also remember to include a unique identifier such as your name or date
#html.Img(src='data:image/png;base64,{}'.format(encoded_image.decode()))

app.layout = html.Div([
#    html.Div(id='hidden-div', style={'display':'none'}),
    html.Center(html.Img(src='data:image/png;base64,{}'.format(encoded_image.decode()))),
    html.Center(html.B(html.H1('Jason Veno Dashboard CS 340'))),
    html.Hr(),
    html.Div(
        # Radio items for filtering options
        dcc.RadioItems(
        id='filter-type',
        options=[
            {'label': 'Water Rescue', 'value': 'Water'},
            {'label': 'Mountain/Wilderness Rescue', 'value': 'Mountain/Wilderness'},
            {'label': 'Disaster Rescue/Individual Tracking', 'value': 'Disaster/Tracking'},
            {'label': 'Reset', 'value': 'Reset'}
        ],
            value = 'Reset',
            labelStyle = {'display': 'inline-block'}
        )
    ),
    html.Hr(),
    dt.DataTable(
        id='datatable-id',
        columns=[
            {"name": i, "id": i, "deletable": False, "selectable": True} for i in df.columns
        ],
        data=df.to_dict('records'),
        fixed_rows={'headers': True},
        style_cell={'minWidth': 95, 'maxWidth': 150, 'width': 95}, # Allows for column-scrolling
        #data=df.to_dict('records'),
        editable=False,
        #filter_action="native",
        sort_action="native",
        sort_mode="multi",
        column_selectable=False,
        row_selectable=False,
        row_deletable=False,
        selected_columns=[],
        selected_rows=[],
        page_action="native",
        page_current= 0,
        page_size= 10,       
    ),
    html.Br(),
    html.Hr(),
#This sets up the dashboard so that your chart and your geolocation chart are side-by-side
    html.Div(className='row',
         style={'display' : 'flex'},
             children=[
        html.Div(
            id='graph-id',
            className='col s12 m6',

            ),
        html.Div(
            id='map-id',
            className='col s12 m6',
            )
        ])
])

#############################################
# Interaction Between Components / Controller
#############################################



    
@app.callback([Output('datatable-id','data'),
               Output('datatable-id','columns')],
              [Input('filter-type', 'value')])
def update_dashboard(filter_type):
        if filter_type == 'Water':
            df = pd.DataFrame(list(shelter.read({'$and': [{'sex_upon_outcome': 'Intact Female'},
                                                           {'$or': [
                                                               {'breed': 'Labrador Retriever Mix'},
                                                               {'breed': 'Chesa Bay Retr Mix'},
                                                               {'breed': 'Newfoundland Mix'}]
                                                           },
                                                           {'$and': [{'age_upon_outcome_in_weeks': {'$gte': 26}},
                                                                    {'age_upon_outcome_in_weeks': {'$lte': 156}}]
                                                            }]
                                                               
                                                })))
                                                          
        elif filter_type == 'Mountain/Wilderness':
            df = pd.DataFrame(list(shelter.read({'$and': [{'sex_upon_outcome': 'Intact Male'},
                                                           {'$or': [
                                                               {'breed': 'German Sheperd'},
                                                               {'breed': 'Alaskan Malamute'},
                                                               {'breed': 'Old English Sheepdog'},
                                                               {'breed': 'Rottweiler'},
                                                               {'breed': 'Siberian Husky'}]
                                                           },
                                                           {'$and': [{'age_upon_outcome_in_weeks': {'$gte': 26}},
                                                                    {'age_upon_outcome_in_weeks': {'$lte': 156}}]
                                                            }]
                                                               
                                                })))
                               
        elif filter_type == 'Disaster/Tracking':
            df = pd.DataFrame(list(shelter.read({'$and': [{'sex_upon_outcome': 'Intact Male'},
                                                           {'$or': [
                                                               {'breed': 'Doberman Pinscher'},
                                                               {'breed': 'Gernam Sheperd'},
                                                               {'breed': 'Golden Retriever'},
                                                               {'breed': 'Bloodhound'},
                                                               {'breed': 'Rottweiler'}]
                                                           },
                                                           {'$and': [{'age_upon_outcome_in_weeks': {'$gte': 20}},
                                                                    {'age_upon_outcome_in_weeks': {'$lte': 300}}]
                                                            }]
                                                               
                                                })))
                               
        # Resets search, displays results
        elif filter_type == 'Reset':
            df = pd.DataFrame.from_records(shelter.read({}))
                               
                               

        
        columns=[{"name": i, "id": i, "deletable": False, "selectable": True} for i in df.columns]
        data=df.to_dict('records')
        
        
        return (data,columns)




@app.callback(
    Output('datatable-id', 'style_data_conditional'),
    [Input('datatable-id', 'selected_columns')]
)
def update_styles(selected_columns):
    return [{
        'if': { 'column_id': i },
        'background_color': '#D2F3FF'
    } for i in selected_columns]

@app.callback(
    Output('graph-id', "children"),
    [Input('datatable-id', "derived_viewport_data")])
def update_graphs(viewData):
    dff = pd.DataFrame.from_dict(viewData)
    names = dff['breed'].value_counts().keys().tolist()
    values = dff['breed'].value_counts().lolist()
    return [
        dcc.Graph(            
            figure = px.pie(dff,
            values = values,
            names = names,
            title = 'Grazioso Salvare Jason Veno Pie Chart',
            width = 800,
            height = 500
            )
        )    
    ]
    

    
# Adds geolocation chart
@app.callback(
    Output('map-id', "children"),
    [Input('datatable-id', "derived_viewport_data")])
def update_map(viewData):
#FIXME: Add in the code for your geolocation chart
#If you completed the Module Six Assignment, you can copy in the code you created here.
    dff = pd.DataFrame.from_dict(viewData)
    return [
        dl.Map(style={'width': '1000px', 'height': '1000px'}, center=[30.75, -97.48], zoom=10, children=[
            dl.TileLayer(id="base-layer-id"),
            dl.Marker(position=[30.75, -97.48], children=[
                dl.Tooltip(dff.iloc[0,4]),
                dl.Popup([
                    html.H1("Animal Name"),
                    html.P(dff.iloc[1,9])
                ])
            ])
        ])
    ]



app
